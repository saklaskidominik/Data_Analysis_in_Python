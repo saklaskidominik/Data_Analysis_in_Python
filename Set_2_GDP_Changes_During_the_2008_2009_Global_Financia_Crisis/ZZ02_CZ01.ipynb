{
 "cells": [
  {
   "cell_type": "markdown",
   "id": "b0e4cdb5",
   "metadata": {
    "deletable": false,
    "editable": false,
    "nbgrader": {
     "cell_type": "markdown",
     "checksum": "74aa63f2e4d352c067353490d74b5258",
     "grade": false,
     "grade_id": "cell-fcd2666579131b77",
     "locked": true,
     "schema_version": 3,
     "solution": false,
     "task": false
    },
    "tags": []
   },
   "source": [
    "# Analiza danych w języku Python - ćwiczenia laboratoryjne 2024/2025\n",
    "\n",
    "Ten notatnik zalicza się do grupy zestawów zadań, na podstawie których odbywa się zaliczenie ćwiczeń i podlega zwrotowi do oceny w ustalonym na zajęciach terminie.\n",
    "\n",
    "Uwagi i wytyczne ogólne dotyczące uzupełniania i oceny notatnika:\n",
    "- Podczas wykonywania zadań należy korzystać wyłącznie z pakietów zaimportowanych na początku notatnika oraz z pakietów wchodzących w skład standardowej biblioteki Pythona, które można zaimportować samodzielnie we wskazanej komórce notatnika. Wyjątek stanowi ostatni z projektów, gdzie po konsultacji z prowadzącym zajęcia możliwa jest większa swoboda w doborze pakietów.\n",
    "- Swoje rozwiązania należy wprowadzać wyłącznie w miejce następujących fragmentów kodu:<br/> `# YOUR CODE HERE`<br/> `raise NotImplementedError()`<br/> \n",
    "a odpowiedzi tekstowe w komórkach oznaczonych hasłem:<br/> \n",
    "`YOUR ANSWER HERE`<br/> \n",
    "Nie należy w żaden sposób modyfikować pozostałych fragmentów kodu oraz innych elementów notatnika, w szczególności dodawać lub usuwać komórek oraz zmieniać nazwy pliku.\n",
    "- Jeżeli zestaw zadań wymaga skorzystania z fragmentów kodu opracowanego w ramach wcześniejszych zestawów zadań należy je umieścić we wskazanej komórce notatnika.\n",
    "- Otrzymywane wyniki i odpowiedzi mają być rezultatem wykonania napisanego kodu, odpowiedzi uzupełniane manualnie nie podlegają ocenie.\n",
    "- Zawarte w notatniku automatyczne testy mają charakter poglądowy. Dotyczą one wybranych aspektów zadań i mają na celu wyłapać podstawowe błędy. Przejście przez kod wszystkich testów nie oznacza, że zadanie jest wykonane w całości poprawnie i zostanie ocenione na maksymalną liczbę punktów.\n",
    "- Zadania należy wykonać w taki sposób, aby podczas wykonywania kodu nie zostały wyświetlone żadne ostrzeżenia.\n",
    "- Zadania, które powodują wyświetlenie komunikatu o błędzie przerywającym wykonywanie kodu nie podlegają ocenie.\n",
    "\n",
    "Uwagi i wytyczne ogólne dotyczące wizualizacji wyników:\n",
    "- Wszystkie wykresy powinny być wykonane w jednolitym, przejrzystym i czytelnym stylu, posiadać odpowiednio dobrane proporcje i zakresy wartości osi.\n",
    "- Figury powinny mieć ustawione białe tło, tak, aby niezależnie od ustawień notatnika wszystkie elementy wykresów były dobrze widoczne (domyślnie tło jest przeźroczyste co może powodować problemy w notatnikach z ustawionym ciemnym tłem). Rozmiar poziomy figur nie powinien przekraczać 20 cali.\n",
    "- Wykresy oraz ich osie powinny mieć nadane tytuły. Jeżeli w obrębie figury znajduje się więcej niż jeden wykres to figura również powinna mieć nadany tytuł.\n",
    "\n",
    "Przed odesłaniem zestawu zadań do oceny proszę uzupełnić komórkę z danymi autorów rozwiązania (nazwa zespołu oraz imiona, nazwiska i numery indeksów członków zespołu) oraz upewnić się, że notatnik działa zgodnie z oczekiwaniami. W tym celu należy skorzystać z opcji **Restart Kernel and Run All Cells...** dostępnej na górnej belce notatnika pod symbolem $\\blacktriangleright\\blacktriangleright$."
   ]
  },
  {
   "cell_type": "markdown",
   "id": "42835609",
   "metadata": {},
   "source": [
    "Nazwa zespołu:\n",
    "Członkowie:"
   ]
  },
  {
   "cell_type": "markdown",
   "id": "021c4a96",
   "metadata": {
    "deletable": false,
    "editable": false,
    "nbgrader": {
     "cell_type": "markdown",
     "checksum": "eddc8826810e4a6f7bf68319da334bd9",
     "grade": false,
     "grade_id": "cell-109006d425e5cf83",
     "locked": true,
     "schema_version": 3,
     "solution": false,
     "task": false
    },
    "tags": []
   },
   "source": [
    "---"
   ]
  },
  {
   "cell_type": "markdown",
   "id": "fe74743f-1998-4812-ac65-974bd8469d8d",
   "metadata": {
    "deletable": false,
    "editable": false,
    "nbgrader": {
     "cell_type": "markdown",
     "checksum": "8ccc3f5d9bbc4f0cf47f3d7c015a87ea",
     "grade": false,
     "grade_id": "cell-21ac76da9323c36f",
     "locked": true,
     "schema_version": 3,
     "solution": false,
     "task": false
    },
    "tags": []
   },
   "source": [
    "## Zestaw zadań 2: Zmiany GDP w okresie globalnego kryzysu finansowego 2008–2009 (Notatnik 1/3)"
   ]
  },
  {
   "cell_type": "code",
   "execution_count": 1,
   "id": "7f9968ab-aec5-4893-b0ad-34121d66004f",
   "metadata": {
    "deletable": false,
    "editable": false,
    "nbgrader": {
     "cell_type": "code",
     "checksum": "20798ed090b7142168484e8e89c74ddf",
     "grade": false,
     "grade_id": "cell-4a5af93ac80c2e34",
     "locked": true,
     "schema_version": 3,
     "solution": false,
     "task": false
    },
    "tags": []
   },
   "outputs": [],
   "source": [
    "import numpy as np\n",
    "import pandas as pd\n",
    "import scipy as sp\n",
    "import matplotlib as mpl\n",
    "import matplotlib.pyplot as plt\n",
    "import seaborn as sns"
   ]
  },
  {
   "cell_type": "code",
   "execution_count": 2,
   "id": "c444ab45-1fe7-4008-8c3c-2b1b526a1fbc",
   "metadata": {},
   "outputs": [],
   "source": [
    "# Miejsce do importu pakietów wchodzących w skład standardowej biblioteki Pythona oraz ustawienie opcji wykorzystywanych pakietów\n",
    "import re"
   ]
  },
  {
   "cell_type": "markdown",
   "id": "3e77dfbb-90cf-463e-b9a7-62e85b221474",
   "metadata": {
    "deletable": false,
    "editable": false,
    "nbgrader": {
     "cell_type": "markdown",
     "checksum": "97550e9d063ed5ed52512b5bd4c877d2",
     "grade": false,
     "grade_id": "cell-8251a8dc1dba0354",
     "locked": true,
     "schema_version": 3,
     "solution": false,
     "task": false
    },
    "tags": []
   },
   "source": [
    "### Zadanie 1: Przygotowanie danych [10 pkt]\n",
    "\n",
    "Pliki raw_data_1.csv, raw_data_2.csv i raw_data_3.xlsx zawierają dane pobrane ze stron:</br>\n",
    "https://databank.worldbank.org/,</br>\n",
    "https://unstats.un.org/UNSDWebsite/,</br>\n",
    "https://datahelpdesk.worldbank.org/knowledgebase/articles/906519-world-bank-country-and-lending-groups.\n",
    "\n",
    "Zaimportuj zawarte w plikach dane do notatnika i utwórz na ich podstawie tablicę `recession_data_1` wykonaną według następujących wytycznych:\n",
    "\n",
    "- Tablica powinna zawierać wyłącznie następujące elementy:</br>\n",
    "\n",
    "    > Indeks: Country Code</br>\n",
    "       \n",
    "    > Kolumny: Country Name, Region Name, Income Group, 2006, 2007, 2008, 2009, 2010, 2011 (w tej kolejności, lata w nagłówkach jako zmienne typu str)</br>\n",
    "    \n",
    "- Wiersze powinny być indeksowane trzyliterowymi kodami krajów.\n",
    "- Kolumna Income Group zawiera informację o stopniu zamożności państwa wg danych z 2008 roku.\n",
    "- Kolumny 2006-2011 zawierają wartości wskaźnika GDP growth (annual %) dla poszczególnych lat.\n",
    "- Zmień występujące w kolumnie Income Category kody (H, UM, LM, L) na pełne wyrażenia (High, Upper middle, Lower middle, Low).\n",
    "- Tablica nie powinna zawierać wierszy, w których znajdują się wartości NaN (w dowolnej kolumnie) oraz wiersza dotyczącego Libii.\n",
    "\n",
    "Zapisz tablicę do pliku recession_data_1.pkl.\n",
    "\n",
    "Wyświetl przygotowaną tablicę w taki sposób aby widoczne było po 5 pierwszych i ostatnich wierszy, a zawarte w tablicy liczby (za wyjątkiem lat w nagłówkach kolumn) wyświetlały się z dokładnością do 2 miejsca po przecinku."
   ]
  },
  {
   "cell_type": "code",
   "execution_count": 20,
   "id": "a1a3f1e9-3392-41a0-a73d-167b235303dd",
   "metadata": {
    "deletable": false,
    "nbgrader": {
     "cell_type": "code",
     "checksum": "69701381bad47b312d4a37590f131714",
     "grade": false,
     "grade_id": "cell-aa85199b5cb633d2",
     "locked": false,
     "schema_version": 3,
     "solution": true,
     "task": false
    },
    "tags": []
   },
   "outputs": [],
   "source": [
    "import pandas as pd\n",
    "import re\n",
    "\n",
    "# --- DATA1\n",
    "data1 = pd.read_csv('raw_data_1.csv', header=0, na_values='..')\n",
    "\n",
    "# Usunięcie [YRxxxx] z nazw kolumn\n",
    "data1.columns = [re.sub(r\"\\[YR\\d{4}\\]\", \"\", col).strip() for col in data1.columns]\n",
    "\n",
    "# Filtrowanie poprawnych kodów krajów (3-literowe)\n",
    "data1 = data1[data1['Country Code'].apply(lambda x: isinstance(x, str) and len(x) == 3 and x.isalpha())]\n",
    "\n",
    "# Ustawienie indeksu i wybór kolumn\n",
    "data1.set_index('Country Code', inplace=True)\n",
    "data1 = data1[[\"Country Name\", \"2006\", \"2007\", \"2008\", \"2009\", \"2010\", \"2011\"]]\n",
    "data1 = data1.dropna()\n",
    "\n",
    "# --- DATA2\n",
    "data2 = pd.read_csv('raw_data_2.csv', header=0, sep=';')\n",
    "data2 = data2[['ISO-alpha3 Code', 'Region Name']]\n",
    "data2.set_index(\"ISO-alpha3 Code\", inplace=True)\n",
    "data2 = data2.dropna()\n",
    "\n",
    "# --- DATA3\n",
    "data3 = pd.read_excel(\"raw_data_3.xlsx\", sheet_name=\"Country Analytical History\", skiprows=4, na_values='..')\n",
    "\n",
    "# Przetwarzanie nagłówków\n",
    "new_columns = data3.iloc[0].tolist()\n",
    "new_columns[0] = 'Country Code'\n",
    "data3.columns = [str(col) for col in new_columns]\n",
    "\n",
    "# Usunięcie pierwszego wiersza (byłego nagłówka) i filtrowanie\n",
    "data3 = data3.drop(index=0).reset_index(drop=True)\n",
    "data3 = data3[['Country Code', '2008']]\n",
    "data3 = data3[data3['Country Code'].apply(lambda x: isinstance(x, str) and len(x) == 3 and x.isalpha())]\n",
    "data3.set_index('Country Code', inplace=True)\n",
    "data3 = data3.dropna()\n",
    "\n",
    "# Zamiana skrótów na pełne opisy\n",
    "data3[\"2008\"] = data3[\"2008\"].replace({\n",
    "    'H': 'High',\n",
    "    'UM': 'Upper middle',\n",
    "    'LM': 'Lower middle',\n",
    "    'L': 'Low'\n",
    "})\n",
    "data3.rename(columns={\"2008\": \"Income Group\"}, inplace=True)\n",
    "\n",
    "# --- Łączenie wszystkich danych\n",
    "recession_data = pd.concat([data1, data2, data3], axis=1)\n",
    "recession_data.index.name = \"Country Code\"\n",
    "\n",
    "# Ustawienie odpowiedniej kolejności kolumn\n",
    "ordered_columns = ['Country Name', 'Region Name', 'Income Group',\n",
    "                   '2006', '2007', '2008', '2009', '2010', '2011']\n",
    "recession_data = recession_data[ordered_columns]\n",
    "\n",
    "# Usunięcie wierszy z brakami i Libii\n",
    "recession_data = recession_data.dropna()\n",
    "recession_data = recession_data[recession_data['Country Name'] != 'Libya']\n",
    "\n",
    "recession_data_1.to_excel(\"recession_data.xlsx\")\n"
   ]
  },
  {
   "cell_type": "code",
   "execution_count": 21,
   "id": "e39740a0-38f2-4b64-83f3-28b3c612b28c",
   "metadata": {
    "deletable": false,
    "editable": false,
    "nbgrader": {
     "cell_type": "code",
     "checksum": "1bdf4a3c2a76fd40f00dabef30e7c3de",
     "grade": true,
     "grade_id": "cell-683b0a3c6c74d0c6",
     "locked": true,
     "points": 10,
     "schema_version": 3,
     "solution": false,
     "task": false
    },
    "tags": []
   },
   "outputs": [],
   "source": [
    "### Komórka testowa\n",
    "# Test 1 Kształt tablicy\n",
    "assert recession_data_1.shape == (198, 9)\n",
    "# Test 2 Kolumny\n",
    "assert len(set(list(recession_data_1.columns)) & set(['Country Name', 'Region Name', 'Income Group', '2006', '2007', '2008', '2009', '2010', '2011'])) == 9\n",
    "# Test 3 Indeks\n",
    "assert (recession_data_1.index.name == 'Country Code') == True\n",
    "assert recession_data_1.index.values.min() == 'ABW'\n",
    "assert recession_data_1.index.values.max() == 'ZWE'\n",
    "assert np.all(recession_data_1.index.values != 'LBY') == True\n",
    "# Test 4 Zawartość kolumn tekstowych\n",
    "assert np.all([set(recession_data_1[\"Region Name\"].unique()) == set(['Asia', 'Europe', 'Africa', 'Oceania', 'Americas'])])\n",
    "assert np.all([recession_data_1[\"Region Name\"].value_counts().values == [50, 49, 43, 40, 16]])\n",
    "assert np.all([set(recession_data_1[\"Income Group\"].unique()) == set(['Low', 'Lower middle', 'Upper middle', 'High'])])\n",
    "assert np.all([recession_data_1[\"Income Group\"].value_counts().values == [60, 53, 44, 41]])\n",
    "# Test 5 Zawartość kolumn liczbowych\n",
    "assert np.all(np.isclose(recession_data_1[['2006', '2007', '2008', '2009', '2010', '2011']].min().values, np.array([ -6.87146322, -6.68402778, -17.66894633,\n",
    "                                                                                                                    -17.57322176, -8.92417589, -12.7148969 ]))) == True\n",
    "assert np.all(np.isclose(recession_data_1[['2006', '2007', '2008', '2009', '2010', '2011']].max().values, np.array([34.5 , 24.99999985, 17.79910913, 21.39052839,\n",
    "                                                                                                                    25.12275964, 21.61652888]))) == True"
   ]
  }
 ],
 "metadata": {
  "kernelspec": {
   "display_name": "Python 3 (ipykernel)",
   "language": "python",
   "name": "python3"
  },
  "language_info": {
   "codemirror_mode": {
    "name": "ipython",
    "version": 3
   },
   "file_extension": ".py",
   "mimetype": "text/x-python",
   "name": "python",
   "nbconvert_exporter": "python",
   "pygments_lexer": "ipython3",
   "version": "3.12.7"
  }
 },
 "nbformat": 4,
 "nbformat_minor": 5
}
